{
 "cells": [
  {
   "cell_type": "markdown",
   "metadata": {},
   "source": [
    "№1 (1 балл)\n",
    "Имеется синхронная версия программы для подсчета значений факториала чисел. Используя модуль asyncio сделайте программу асинхронной. В этом случае в каком порядке завершаются задачи? С->B->A Из-за количества необходимых циклов для вычисления факториалов."
   ]
  },
  {
   "cell_type": "code",
   "execution_count": 16,
   "metadata": {},
   "outputs": [
    {
     "name": "stdout",
     "output_type": "stream",
     "text": [
      "Task A: Compute factorial(2)...\n",
      "Task B: Compute factorial(2)...\n",
      "Task C: Compute factorial(2)...\n",
      "Task A: Compute factorial(3)...\n",
      "Task B: Compute factorial(3)...\n",
      "Task C: Compute factorial(3)...\n",
      "Task A: Compute factorial(4)...\n",
      "Task B: Compute factorial(4)...\n",
      "Task C: Compute factorial(4)...\n",
      "Task A: Compute factorial(5)...\n",
      "Task B: Compute factorial(5)...\n",
      "Task C: factorial(4) = 24\n",
      "Task A: Compute factorial(6)...\n",
      "Task B: Compute factorial(6)...\n",
      "Task A: Compute factorial(7)...\n",
      "Task B: Compute factorial(7)...\n",
      "Task A: Compute factorial(8)...\n",
      "Task B: factorial(7) = 5040\n",
      "Task A: Compute factorial(9)...\n",
      "Task A: Compute factorial(10)...\n",
      "Task A: Compute factorial(11)...\n",
      "Task A: Compute factorial(12)...\n",
      "Task A: Compute factorial(13)...\n",
      "Task A: Compute factorial(14)...\n",
      "Task A: Compute factorial(15)...\n",
      "Task A: factorial(15) = 1307674368000\n"
     ]
    }
   ],
   "source": [
    "import asyncio\n",
    "\n",
    "async def factorial(name, number): \n",
    "    f = 1 \n",
    "    for i in range(2, number + 1): \n",
    "        print(f\"Task {name}: Compute factorial({i})...\")\n",
    "        f *= i\n",
    "        await asyncio.sleep(0) \n",
    "    print(f\"Task {name}: factorial({number}) = {f}\") \n",
    "\n",
    "async def main(): \n",
    "    await asyncio.gather(\n",
    "        factorial(\"A\", 15),\n",
    "        factorial(\"B\", 7),\n",
    "        factorial(\"C\", 4),)\n",
    "\n",
    "if __name__ == '__main__':\n",
    "    await main()"
   ]
  },
  {
   "cell_type": "markdown",
   "metadata": {},
   "source": [
    "№2 (2 балла)\n",
    "Напишите программу, которая выводит ваш IP адрес. Есть много сервисов, которые позволяют узнать ваш ip (https://api.ipify.org, http://ip-api.com и т.д.). Но на момент запуска программы вы не знаете какой из сервисов доступен. Вместо того, чтобы опрашивать каждый из этих сервисов последовательно, запустите все запросы асинхронно и выберите первый успешный.\n",
    "На экране должен быть выведен ваш ip и название сервиса, который ответил первым."
   ]
  },
  {
   "cell_type": "code",
   "execution_count": 23,
   "metadata": {},
   "outputs": [
    {
     "name": "stdout",
     "output_type": "stream",
     "text": [
      "('46.181.11.34', 'ipify')\n"
     ]
    }
   ],
   "source": [
    "import asyncio\n",
    "import aiohttp\n",
    "from typing import Optional, Tuple\n",
    "\n",
    "SERVICES = {\n",
    "    \"ipify\": \"https://api.ipify.org?format=json\",\n",
    "    \"ip-api\": \"http://ip-api.com/json/\",\n",
    "}\n",
    "\n",
    "async def fetch_ip(session: aiohttp.ClientSession, service_name: str, url: str):\n",
    "    async with session.get(url) as response:\n",
    "        if response.status == 200:\n",
    "            data = await response.json()\n",
    "            ip = data.get(\"ip\", data.get(\"query\"))\n",
    "            return (ip, service_name)\n",
    "\n",
    "async def get_ip():\n",
    "    async with aiohttp.ClientSession() as session:\n",
    "        tasks = [\n",
    "            fetch_ip(session, \"ipify\", \"https://api.ipify.org?format=json\"),\n",
    "            fetch_ip(session, \"ip-api\", \"http://ip-api.com/json/\") ]\n",
    "        for future in asyncio.as_completed(tasks):\n",
    "            result = await future\n",
    "            return result\n",
    "\n",
    "async def main():\n",
    "    ip = await get_ip()\n",
    "    print(ip)\n",
    "\n",
    "if __name__ == '__main__':\n",
    "    await main()"
   ]
  },
  {
   "cell_type": "markdown",
   "metadata": {},
   "source": []
  }
 ],
 "metadata": {
  "kernelspec": {
   "display_name": "Python 3",
   "language": "python",
   "name": "python3"
  },
  "language_info": {
   "codemirror_mode": {
    "name": "ipython",
    "version": 3
   },
   "file_extension": ".py",
   "mimetype": "text/x-python",
   "name": "python",
   "nbconvert_exporter": "python",
   "pygments_lexer": "ipython3",
   "version": "3.13.3"
  }
 },
 "nbformat": 4,
 "nbformat_minor": 2
}
